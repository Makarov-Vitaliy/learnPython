{
 "cells": [
  {
   "cell_type": "markdown",
   "id": "7ea18a54",
   "metadata": {},
   "source": [
    "# Ключевые слова\n",
    "\n",
    "`False`- ложь.\n",
    "\n",
    "`True` - правда.\n",
    "\n",
    "`None` - \"пустой\" объект.\n",
    "\n",
    "`and` - логическое И.\n",
    "\n",
    "`with / as` - менеджер контекста.\n",
    "\n",
    "`assert` условие - возбуждает исключение, если условие ложно.\n",
    "\n",
    "`break` - выход из цикла.\n",
    "\n",
    "`class` - пользовательский тип, состоящий из методов и атрибутов.\n",
    "\n",
    "`continue` - переход на следующую итерацию цикла.\n",
    "\n",
    "`def` - определение функции.\n",
    "\n",
    "`del` - удаление объекта.\n",
    "\n",
    "`elif` - в противном случае, если.\n",
    "\n",
    "`else` - см. for/else или if/else.\n",
    "\n",
    "`except` - перехватить исключение.\n",
    "\n",
    "`finally` - вкупе с инструкцией try, выполняет инструкции независимо от того, было ли исключение или нет.\n",
    "\n",
    "`for` - цикл for.\n",
    "\n",
    "`from` - импорт нескольких функций из модуля.\n",
    "\n",
    "`global` - позволяет сделать значение переменной, присвоенное ей внутри функции, доступным и за пределами этой функции.\n",
    "\n",
    "`if` - если.\n",
    "\n",
    "`import` - импорт модуля.\n",
    "\n",
    "`in` - проверка на вхождение.\n",
    "\n",
    "`is` - ссылаются ли 2 объекта на одно и то же место в памяти.\n",
    "\n",
    "`lambda` - определение анонимной функции.\n",
    "\n",
    "`nonlocal` - позволяет сделать значение переменной, присвоенное ей внутри функции, доступным в объемлющей инструкции.\n",
    "\n",
    "`not` - логическое НЕ.\n",
    "\n",
    "`or` - логическое ИЛИ.\n",
    "\n",
    "`pass` - ничего не делающая конструкция.\n",
    "\n",
    "`raise` - возбудить исключение.\n",
    "\n",
    "`return` - вернуть результат.\n",
    "\n",
    "`try` - выполнить инструкции, перехватывая исключения.\n",
    "\n",
    "`while` - цикл while.\n",
    "\n",
    "`yield` - определение функции-генератора."
   ]
  },
  {
   "cell_type": "markdown",
   "id": "1089cb6a",
   "metadata": {},
   "source": [
    "# Целые числа (int)\n",
    "\n",
    "`x+y`\tСложение \n",
    "\n",
    "`x - y`\tВычитание\n",
    "\n",
    "`x * y`\tУмножение\n",
    "\n",
    "`x / y`\tДеление\n",
    "\n",
    "`x // y` Получение целой части от деления\n",
    "\n",
    "`x % y`\tОстаток от деления\n",
    "\n",
    "`-x`\tСмена знака числа\n",
    "\n",
    "`abs(x)` Модуль числа\n",
    "\n",
    "\n",
    "`x ** y` Возведение в степень\n",
    "\n"
   ]
  },
  {
   "cell_type": "markdown",
   "id": "90e5b7e8",
   "metadata": {},
   "source": [
    "# Комплексные числа (complex)"
   ]
  },
  {
   "cell_type": "code",
   "execution_count": 6,
   "id": "20d16dda",
   "metadata": {},
   "outputs": [
    {
     "name": "stdout",
     "output_type": "stream",
     "text": [
      "(1+2j)\n",
      "(3+4j)\n",
      "(1+2j)\n",
      "(4+6j)\n",
      "(-5+10j)\n",
      "(0.44+0.08j)\n",
      "(1-2j)\n",
      "2.0\n",
      "1.0\n"
     ]
    }
   ],
   "source": [
    "x = complex(1, 2)\n",
    "print(x)\n",
    "\n",
    "y = complex(3, 4)\n",
    "print(y)\n",
    "\n",
    "z = x + y\n",
    "print(x)\n",
    "\n",
    "print(z)\n",
    "\n",
    "z = x * y\n",
    "print(z)\n",
    "\n",
    "z = x / y\n",
    "print(z)\n",
    "\n",
    "print(x.conjugate())  # Сопряжённое число\n",
    "\n",
    "print(x.imag)  # Мнимая часть\n",
    "\n",
    "print(x.real)  # Действительная часть"
   ]
  },
  {
   "cell_type": "markdown",
   "id": "6249b14c",
   "metadata": {},
   "source": [
    "# Списки\n",
    "\n",
    "Списки в Python - упорядоченные изменяемые коллекции объектов произвольных типов (почти как массив, но типы могут отличаться)."
   ]
  },
  {
   "cell_type": "code",
   "execution_count": 8,
   "id": "c4f1b223",
   "metadata": {},
   "outputs": [
    {
     "data": {
      "text/plain": [
       "['я', ' ', 'с', 'п', 'и', 'с', 'о', 'к']"
      ]
     },
     "execution_count": 8,
     "metadata": {},
     "output_type": "execute_result"
    }
   ],
   "source": [
    "list('я список')"
   ]
  },
  {
   "cell_type": "code",
   "execution_count": 10,
   "id": "31bf3430",
   "metadata": {},
   "outputs": [
    {
     "name": "stdout",
     "output_type": "stream",
     "text": [
      "[]\n"
     ]
    }
   ],
   "source": [
    "s = []  # Пустой список\n",
    "print(s)"
   ]
  },
  {
   "cell_type": "code",
   "execution_count": 12,
   "id": "049fbb54",
   "metadata": {},
   "outputs": [
    {
     "name": "stdout",
     "output_type": "stream",
     "text": [
      "['lll', 'iii', 'sss', 'ttt']\n"
     ]
    }
   ],
   "source": [
    "c = [c * 3 for c in 'list']\n",
    "print(c)"
   ]
  },
  {
   "cell_type": "code",
   "execution_count": 13,
   "id": "f03323d7",
   "metadata": {},
   "outputs": [
    {
     "name": "stdout",
     "output_type": "stream",
     "text": [
      "['ls', 'lp', 'lm', 'ss', 'sp', 'sm', 'ts', 'tp', 'tm']\n"
     ]
    }
   ],
   "source": [
    "c = [c + d for c in 'list' if c != 'i' for d in 'spam' if d != 'a']\n",
    "print(c)"
   ]
  },
  {
   "cell_type": "markdown",
   "id": "599b79b3",
   "metadata": {},
   "source": [
    "## Методы списков\n",
    "\n",
    "\n",
    "`list.append(x)`\tДобавляет элемент в конец списка\n",
    "\n",
    "`list.extend(L)`\tРасширяет список list, добавляя в конец все элементы списка L\n",
    "\n",
    "`list.insert(i, x)`\tВставляет на i-ый элемент значение x\n",
    "\n",
    "`list.remove(x)`\tУдаляет первый элемент в списке, имеющий значение x. ValueError, если такого элемента не существует\n",
    "\n",
    "`list.pop([i])`\tУдаляет i-ый элемент и возвращает его. Если индекс не указан, удаляется последний элемент\n",
    "\n",
    "`list.index(x, [start [, end]])`\tВозвращает положение первого элемента со значением x (при этом поиск ведется от start до end)\n",
    "\n",
    "`list.count(x)`\tВозвращает количество элементов со значением x\n",
    "\n",
    "`list.sort([key=функция])`\tСортирует список на основе функции\n",
    "\n",
    "`list.reverse()`\tРазворачивает список\n",
    "\n",
    "`list.copy()`\tПоверхностная копия списка\n",
    "\n",
    "`list.clear()`\tОчищает список"
   ]
  },
  {
   "cell_type": "code",
   "execution_count": 15,
   "id": "9fbf99b3",
   "metadata": {},
   "outputs": [
    {
     "name": "stdout",
     "output_type": "stream",
     "text": [
      "[-1, 0, 2, 4, 7]\n"
     ]
    }
   ],
   "source": [
    "l = [0, 2, 4, -1, 7]\n",
    "l.sort()\n",
    "print(l)"
   ]
  },
  {
   "cell_type": "markdown",
   "id": "dfe2255b",
   "metadata": {},
   "source": [
    "# Кортежи\n",
    "\n",
    "Кортеж защищен от изменений, как намеренных (что плохо), так и случайных (что хорошо).\n",
    "\n",
    "Меньший размер."
   ]
  },
  {
   "cell_type": "code",
   "execution_count": 16,
   "id": "025e5041",
   "metadata": {},
   "outputs": [
    {
     "name": "stdout",
     "output_type": "stream",
     "text": [
      "72\n",
      "136\n"
     ]
    }
   ],
   "source": [
    "a = (1, 2, 3, 4, 5, 6)\n",
    "b = [1, 2, 3, 4, 5, 6]\n",
    "\n",
    "print(a.__sizeof__())\n",
    "print(b.__sizeof__())"
   ]
  },
  {
   "cell_type": "code",
   "execution_count": 18,
   "id": "2cde15c9",
   "metadata": {},
   "outputs": [
    {
     "name": "stdout",
     "output_type": "stream",
     "text": [
      "('h', 'e', 'l', 'l', 'o', ',', ' ', 'w', 'o', 'r', 'l', 'd', '!')\n"
     ]
    }
   ],
   "source": [
    "a = tuple('hello, world!')\n",
    "print(a)"
   ]
  },
  {
   "cell_type": "markdown",
   "id": "c9c50476",
   "metadata": {},
   "source": [
    "# Словари\n",
    "\n",
    "Словари в Python - неупорядоченные коллекции произвольных объектов с доступом по ключу. Их иногда ещё называют\n",
    "\n",
    "ассоциативными массивами или хеш-таблицами."
   ]
  },
  {
   "cell_type": "code",
   "execution_count": 19,
   "id": "c80dd8b7",
   "metadata": {},
   "outputs": [
    {
     "name": "stdout",
     "output_type": "stream",
     "text": [
      "{'dict': 1, 'dictionary': 2}\n"
     ]
    }
   ],
   "source": [
    "d = {'dict': 1, 'dictionary': 2}\n",
    "print(d)"
   ]
  },
  {
   "cell_type": "code",
   "execution_count": 20,
   "id": "c53ec040",
   "metadata": {},
   "outputs": [
    {
     "name": "stdout",
     "output_type": "stream",
     "text": [
      "{'short': 'dict', 'long': 'dictionary'}\n"
     ]
    }
   ],
   "source": [
    "# с помощью функции dict:\n",
    "d = dict(short='dict', long='dictionary')\n",
    "print(d)"
   ]
  },
  {
   "attachments": {},
   "cell_type": "markdown",
   "id": "b8d9946b",
   "metadata": {},
   "source": [
    "# Системы счисления\n",
    "\n",
    "\n",
    "`int([object], [основание системы счисления])` - преобразование к целому числу в десятичной системе счисления. По умолчанию система счисления десятичная, но можно задать любое основание от 2 до 36 включительно.\n",
    "    \n",
    "`bin(x)` - преобразование целого числа в двоичную строку.\n",
    "    \n",
    "`hex(х)` - преобразование целого числа в шестнадцатеричную строку.\n",
    "    \n",
    "`oct(х)` - преобразование целого числа в восьмеричную строку."
   ]
  },
  {
   "cell_type": "code",
   "execution_count": 5,
   "id": "abd03947",
   "metadata": {},
   "outputs": [
    {
     "name": "stdout",
     "output_type": "stream",
     "text": [
      "19\n",
      "0b10011\n",
      "0o23\n",
      "0x13\n"
     ]
    }
   ],
   "source": [
    "a = int('19') # Переводим строку в число\n",
    "\n",
    "print(a)\n",
    "\n",
    "print(bin(19))\n",
    "\n",
    "print(oct(19))\n",
    "\n",
    "print(hex(19))\n",
    "\n"
   ]
  },
  {
   "cell_type": "markdown",
   "id": "8b86fb0d",
   "metadata": {},
   "source": [
    "# Функции\n",
    "\n",
    "Функция в python - объект, принимающий аргументы и возвращающий значение. Обычно функция определяется с помощью инструкции def."
   ]
  },
  {
   "cell_type": "code",
   "execution_count": 22,
   "id": "5654259f",
   "metadata": {},
   "outputs": [
    {
     "name": "stdout",
     "output_type": "stream",
     "text": [
      "15\n"
     ]
    }
   ],
   "source": [
    "def add(x, y):\n",
    "    return x + y\n",
    "\n",
    "print(add(6,9))"
   ]
  },
  {
   "cell_type": "markdown",
   "id": "38bb6ee1",
   "metadata": {},
   "source": [
    "Функция может быть любой сложности и возвращать любые объекты (списки, кортежи, и даже функции!):\n"
   ]
  },
  {
   "cell_type": "code",
   "execution_count": 28,
   "id": "c862fec6",
   "metadata": {},
   "outputs": [
    {
     "data": {
      "text/plain": [
       "300"
      ]
     },
     "execution_count": 28,
     "metadata": {},
     "output_type": "execute_result"
    }
   ],
   "source": [
    "def newfunc(n):\n",
    "    def myfunc(x):\n",
    "        return x + n\n",
    "    return myfunc\n",
    "    \n",
    "new = newfunc(100)  # new - это функция\n",
    "new(200)"
   ]
  },
  {
   "cell_type": "markdown",
   "id": "598976da",
   "metadata": {},
   "source": [
    "Функция может и не заканчиваться инструкцией return, при этом функция вернет значение None:"
   ]
  },
  {
   "cell_type": "code",
   "execution_count": 29,
   "id": "ce23f463",
   "metadata": {},
   "outputs": [],
   "source": [
    "def func():\n",
    "    pass"
   ]
  },
  {
   "cell_type": "markdown",
   "id": "fa4878e7",
   "metadata": {},
   "source": [
    "Функция может принимать произвольное количество аргументов или не принимать их вовсе. Также распространены функции с произвольным числом аргументов, функции с позиционными и именованными аргументами, обязательными и необязательными."
   ]
  },
  {
   "cell_type": "code",
   "execution_count": 30,
   "id": "15bc0b92",
   "metadata": {},
   "outputs": [
    {
     "name": "stdout",
     "output_type": "stream",
     "text": [
      "8\n"
     ]
    }
   ],
   "source": [
    "def func(a, b, c=2): # c - необязательный аргумент\n",
    "    return a + b + c\n",
    "\n",
    "print(func(1,5))"
   ]
  },
  {
   "cell_type": "markdown",
   "id": "d8301685",
   "metadata": {},
   "source": [
    "## Условные оператора"
   ]
  },
  {
   "cell_type": "code",
   "execution_count": 1,
   "id": "7197ba94",
   "metadata": {},
   "outputs": [
    {
     "name": "stdout",
     "output_type": "stream",
     "text": [
      "тип True and False: <class 'bool'>\n",
      "0: False, 1: True\n",
      "пустой список: False, список со значениями: True\n",
      "пустой словарь False, словарь со значениями: True\n"
     ]
    }
   ],
   "source": [
    "print('тип True and False: {}'.format(type(True)))\n",
    "print('0: {}, 1: {}'.format(bool(0), bool(1)))\n",
    "print('пустой список: {}, список со значениями: {}'.format(bool([]), bool(['woop'])))\n",
    "print('пустой словарь {}, словарь со значениями: {}'.format(bool({}), bool({'Python': 'cool'})))"
   ]
  },
  {
   "cell_type": "markdown",
   "id": "cc87e9f0",
   "metadata": {},
   "source": [
    "### `==, !=, >, <, >=, <=`"
   ]
  },
  {
   "cell_type": "code",
   "execution_count": null,
   "id": "4f0e7c89",
   "metadata": {},
   "outputs": [],
   "source": [
    "print('1 == 0: {}'.format(1 == 0))\n",
    "print('1 != 0: {}'.format(1 != 0))\n",
    "print('1 > 0: {}'.format(1 > 0))\n",
    "print('1 > 1: {}'.format(1 > 1))\n",
    "print('1 < 0: {}'.format(1 < 0))\n",
    "print('1 < 1: {}'.format(1 < 1))\n",
    "print('1 >= 0: {}'.format(1 >= 0))\n",
    "print('1 >= 1: {}'.format(1 >= 1))\n",
    "print('1 <= 0: {}'.format(1 <= 0))\n",
    "print('1 <= 1: {}'.format(1 <= 1))"
   ]
  },
  {
   "cell_type": "markdown",
   "id": "cc8c33c4",
   "metadata": {},
   "source": [
    "## Целочисленное деление `//`, остаток от деления `%`, степень `**`"
   ]
  },
  {
   "cell_type": "markdown",
   "id": "4de3a87d",
   "metadata": {},
   "source": [
    "### Задание 1 заменить в функции \n",
    "\n",
    "\\begin{align}\n",
    " res = a^3 - \\frac{3b^2 }{6c} + 15\n",
    "\\end{align}"
   ]
  },
  {
   "cell_type": "code",
   "execution_count": null,
   "id": "720c6757",
   "metadata": {},
   "outputs": [],
   "source": [
    "a = 3\n",
    "b = 2\n",
    "c = 1"
   ]
  },
  {
   "cell_type": "code",
   "execution_count": null,
   "id": "f1c6fe1f",
   "metadata": {
    "editable": false
   },
   "outputs": [],
   "source": [
    "# Ваша формула:\n",
    "result = "
   ]
  },
  {
   "cell_type": "code",
   "execution_count": null,
   "id": "669f2000",
   "metadata": {},
   "outputs": [],
   "source": [
    "assert result == 40"
   ]
  },
  {
   "cell_type": "markdown",
   "id": "81adf0d5",
   "metadata": {},
   "source": [
    "### Задание 2 реализовать функцию, которая фильтрует числа, делящиеся целочисленно на 7"
   ]
  },
  {
   "cell_type": "code",
   "execution_count": 32,
   "id": "8bacd3cb",
   "metadata": {},
   "outputs": [
    {
     "ename": "NameError",
     "evalue": "name '____________' is not defined",
     "output_type": "error",
     "traceback": [
      "\u001b[1;31m---------------------------------------------------------------------------\u001b[0m",
      "\u001b[1;31mNameError\u001b[0m                                 Traceback (most recent call last)",
      "Input \u001b[1;32mIn [32]\u001b[0m, in \u001b[0;36m<cell line: 10>\u001b[1;34m()\u001b[0m\n\u001b[0;32m      7\u001b[0m     \u001b[38;5;28;01mreturn\u001b[39;00m result\n\u001b[0;32m      9\u001b[0m nums\u001b[38;5;241m=\u001b[39m[\u001b[38;5;241m1\u001b[39m,\u001b[38;5;241m6\u001b[39m,\u001b[38;5;241m9\u001b[39m,\u001b[38;5;241m10\u001b[39m,\u001b[38;5;241m15\u001b[39m,\u001b[38;5;241m21\u001b[39m,\u001b[38;5;241m30\u001b[39m,\u001b[38;5;241m42\u001b[39m]\n\u001b[1;32m---> 10\u001b[0m \u001b[38;5;28;01massert\u001b[39;00m(\u001b[43mgetDivisibleBySeven\u001b[49m\u001b[43m(\u001b[49m\u001b[43mnums\u001b[49m\u001b[43m)\u001b[49m \u001b[38;5;241m==\u001b[39m [\u001b[38;5;241m21\u001b[39m, \u001b[38;5;241m42\u001b[39m])\n",
      "Input \u001b[1;32mIn [32]\u001b[0m, in \u001b[0;36mgetDivisibleBySeven\u001b[1;34m(numbers)\u001b[0m\n\u001b[0;32m      2\u001b[0m result \u001b[38;5;241m=\u001b[39m []\n\u001b[0;32m      3\u001b[0m \u001b[38;5;28;01mfor\u001b[39;00m num \u001b[38;5;129;01min\u001b[39;00m numbers:\n\u001b[1;32m----> 4\u001b[0m     \u001b[38;5;28;01mif\u001b[39;00m \u001b[43m____________\u001b[49m:\n\u001b[0;32m      5\u001b[0m         result\u001b[38;5;241m.\u001b[39mappend(num)\n\u001b[0;32m      7\u001b[0m \u001b[38;5;28;01mreturn\u001b[39;00m result\n",
      "\u001b[1;31mNameError\u001b[0m: name '____________' is not defined"
     ]
    }
   ],
   "source": [
    "def getDivisibleBySeven(numbers):\n",
    "    result = []\n",
    "    for num in numbers:\n",
    "        if ____________:\n",
    "            result.append(num)\n",
    "\n",
    "    return result\n",
    "\n",
    "nums=[1,6,9,10,15,21,30,42]\n",
    "assert(getDivisibleBySeven(nums) == [21, 42])"
   ]
  },
  {
   "cell_type": "markdown",
   "id": "fbcc4459",
   "metadata": {},
   "source": [
    "### Задание 3. Найти суммы только численных элементов"
   ]
  },
  {
   "cell_type": "code",
   "execution_count": null,
   "id": "c57d5210",
   "metadata": {},
   "outputs": [],
   "source": [
    "\n",
    "\n",
    "mdict = dict(val1=34, val2='some value', val3=65.0, val4=1, val4='S')\n",
    "\n",
    "sum_of_values = __________\n",
    "\n",
    "assert sum_of_values == 100\n",
    "\n"
   ]
  },
  {
   "cell_type": "markdown",
   "id": "16c1ebd2",
   "metadata": {},
   "source": [
    "### Задание 4. Создать список строк на основе списка чисел по следующим правилам\n",
    "\n",
    "* Если число равно 0 элемент-строка должна быть \"0\"\n",
    "\n",
    "для всех остальных чисел:\n",
    "\n",
    "* Если число четное элемент-строка должна быть \"Четное\"\n",
    "\n",
    "* Если число нечетное элемент-строка должна быть \"Нечетное\""
   ]
  },
  {
   "cell_type": "code",
   "execution_count": 23,
   "id": "67da010d",
   "metadata": {},
   "outputs": [],
   "source": [
    "numbers = [1, 3, 4, 0, 23, 82, 90, 0, 5]"
   ]
  },
  {
   "cell_type": "code",
   "execution_count": 31,
   "id": "b2270cb3",
   "metadata": {},
   "outputs": [
    {
     "ename": "NameError",
     "evalue": "name '____________' is not defined",
     "output_type": "error",
     "traceback": [
      "\u001b[1;31m---------------------------------------------------------------------------\u001b[0m",
      "\u001b[1;31mNameError\u001b[0m                                 Traceback (most recent call last)",
      "\u001b[1;32mj:\\jupyter\\my\\lab1_basic_python.ipynb Ячейка 12\u001b[0m in \u001b[0;36m<cell line: 4>\u001b[1;34m()\u001b[0m\n\u001b[0;32m      <a href='vscode-notebook-cell:/j%3A/jupyter/my/lab1_basic_python.ipynb#X15sZmlsZQ%3D%3D?line=0'>1</a>\u001b[0m \u001b[39m# Ваше решение\u001b[39;00m\n\u001b[1;32m----> <a href='vscode-notebook-cell:/j%3A/jupyter/my/lab1_basic_python.ipynb#X15sZmlsZQ%3D%3D?line=3'>4</a>\u001b[0m my_list \u001b[39m=\u001b[39m ____________\n",
      "\u001b[1;31mNameError\u001b[0m: name '____________' is not defined"
     ]
    }
   ],
   "source": [
    "# Ваше решение\n",
    "\n",
    "\n",
    "my_list = ____________\n"
   ]
  },
  {
   "cell_type": "code",
   "execution_count": 29,
   "id": "5d9fce37",
   "metadata": {},
   "outputs": [],
   "source": [
    "assert my_list==['odd', 'odd', 'even', '0', 'odd', 'even', 'even', '0', 'odd']"
   ]
  },
  {
   "cell_type": "markdown",
   "id": "3995de92",
   "metadata": {},
   "source": [
    "### Задание 5. Создать словарь, используя следующие переменные\n"
   ]
  },
  {
   "cell_type": "code",
   "execution_count": null,
   "id": "00439867",
   "metadata": {},
   "outputs": [],
   "source": [
    "first_name = 'Стас'\n",
    "last_name = 'Иванов'\n",
    "favorite_hobby = 'Python'\n",
    "sports_hobby = 'теннис'\n",
    "age = 82\n"
   ]
  },
  {
   "cell_type": "code",
   "execution_count": 33,
   "id": "6609fa4c",
   "metadata": {},
   "outputs": [
    {
     "ename": "NameError",
     "evalue": "name '___________' is not defined",
     "output_type": "error",
     "traceback": [
      "\u001b[1;31m---------------------------------------------------------------------------\u001b[0m",
      "\u001b[1;31mNameError\u001b[0m                                 Traceback (most recent call last)",
      "Input \u001b[1;32mIn [33]\u001b[0m, in \u001b[0;36m<cell line: 1>\u001b[1;34m()\u001b[0m\n\u001b[1;32m----> 1\u001b[0m my_dict \u001b[38;5;241m=\u001b[39m \u001b[43m___________\u001b[49m\n\u001b[0;32m      3\u001b[0m \u001b[38;5;28;01massert\u001b[39;00m my_dict \u001b[38;5;241m==\u001b[39m {\n\u001b[0;32m      4\u001b[0m         \u001b[38;5;124m'\u001b[39m\u001b[38;5;124mname\u001b[39m\u001b[38;5;124m'\u001b[39m: \u001b[38;5;124m'\u001b[39m\u001b[38;5;124mСтас\u001b[39m\u001b[38;5;124m'\u001b[39m,\n\u001b[0;32m      5\u001b[0m         \u001b[38;5;124m'\u001b[39m\u001b[38;5;124mage\u001b[39m\u001b[38;5;124m'\u001b[39m: \u001b[38;5;241m82\u001b[39m,\n\u001b[0;32m      6\u001b[0m         \u001b[38;5;124m'\u001b[39m\u001b[38;5;124mhobbies\u001b[39m\u001b[38;5;124m'\u001b[39m: [\u001b[38;5;124m'\u001b[39m\u001b[38;5;124mPython\u001b[39m\u001b[38;5;124m'\u001b[39m, \u001b[38;5;124m'\u001b[39m\u001b[38;5;124mтеннис\u001b[39m\u001b[38;5;124m'\u001b[39m]\n\u001b[0;32m      7\u001b[0m     }\n",
      "\u001b[1;31mNameError\u001b[0m: name '___________' is not defined"
     ]
    }
   ],
   "source": [
    "\n",
    "my_dict = ___________\n",
    "\n",
    "assert my_dict == {\n",
    "        'name': 'Стас',\n",
    "        'age': 82,\n",
    "        'hobbies': ['Python', 'теннис']\n",
    "    }\n",
    "\n"
   ]
  },
  {
   "cell_type": "code",
   "execution_count": null,
   "id": "a36dd530",
   "metadata": {},
   "outputs": [],
   "source": []
  }
 ],
 "metadata": {
  "kernelspec": {
   "display_name": "Python 3 (ipykernel)",
   "language": "python",
   "name": "python3"
  },
  "language_info": {
   "codemirror_mode": {
    "name": "ipython",
    "version": 3
   },
   "file_extension": ".py",
   "mimetype": "text/x-python",
   "name": "python",
   "nbconvert_exporter": "python",
   "pygments_lexer": "ipython3",
   "version": "3.9.12"
  },
  "vscode": {
   "interpreter": {
    "hash": "51d1b1972fa54798d909bd0eac714c941b72cf97f8d0b65a669e06cc130b051e"
   }
  }
 },
 "nbformat": 4,
 "nbformat_minor": 5
}
