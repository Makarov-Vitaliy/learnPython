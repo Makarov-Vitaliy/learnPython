{
 "cells": [
  {
   "cell_type": "markdown",
   "id": "7ea18a54",
   "metadata": {},
   "source": [
    "# Ключевые слова\n",
    "\n",
    "`False`- ложь.\n",
    "\n",
    "`True` - правда.\n",
    "\n",
    "`None` - \"пустой\" объект.\n",
    "\n",
    "`and` - логическое И.\n",
    "\n",
    "`with / as` - менеджер контекста.\n",
    "\n",
    "`assert` условие - возбуждает исключение, если условие ложно.\n",
    "\n",
    "`break` - выход из цикла.\n",
    "\n",
    "`class` - пользовательский тип, состоящий из методов и атрибутов.\n",
    "\n",
    "`continue` - переход на следующую итерацию цикла.\n",
    "\n",
    "`def` - определение функции.\n",
    "\n",
    "`del` - удаление объекта.\n",
    "\n",
    "`elif` - в противном случае, если.\n",
    "\n",
    "`else` - см. for/else или if/else.\n",
    "\n",
    "`except` - перехватить исключение.\n",
    "\n",
    "`finally` - вкупе с инструкцией try, выполняет инструкции независимо от того, было ли исключение или нет.\n",
    "\n",
    "`for` - цикл for.\n",
    "\n",
    "`from` - импорт нескольких функций из модуля.\n",
    "\n",
    "`global` - позволяет сделать значение переменной, присвоенное ей внутри функции, доступным и за пределами этой функции.\n",
    "\n",
    "`if` - если.\n",
    "\n",
    "`import` - импорт модуля.\n",
    "\n",
    "`in` - проверка на вхождение.\n",
    "\n",
    "`is` - ссылаются ли 2 объекта на одно и то же место в памяти.\n",
    "\n",
    "`lambda` - определение анонимной функции.\n",
    "\n",
    "`nonlocal` - позволяет сделать значение переменной, присвоенное ей внутри функции, доступным в объемлющей инструкции.\n",
    "\n",
    "`not` - логическое НЕ.\n",
    "\n",
    "`or` - логическое ИЛИ.\n",
    "\n",
    "`pass` - ничего не делающая конструкция.\n",
    "\n",
    "`raise` - возбудить исключение.\n",
    "\n",
    "`return` - вернуть результат.\n",
    "\n",
    "`try` - выполнить инструкции, перехватывая исключения.\n",
    "\n",
    "`while` - цикл while.\n",
    "\n",
    "`yield` - определение функции-генератора."
   ]
  },
  {
   "cell_type": "markdown",
   "id": "1089cb6a",
   "metadata": {},
   "source": [
    "# Целые числа (int)\n",
    "\n",
    "`x+y`\tСложение \n",
    "\n",
    "`x - y`\tВычитание\n",
    "\n",
    "`x * y`\tУмножение\n",
    "\n",
    "`x / y`\tДеление\n",
    "\n",
    "`x // y` Получение целой части от деления\n",
    "\n",
    "`x % y`\tОстаток от деления\n",
    "\n",
    "`-x`\tСмена знака числа\n",
    "\n",
    "`abs(x)` Модуль числа\n",
    "\n",
    "\n",
    "`x ** y` Возведение в степень\n",
    "\n"
   ]
  },
  {
   "cell_type": "markdown",
   "id": "90e5b7e8",
   "metadata": {},
   "source": [
    "# Комплексные числа (complex)"
   ]
  },
  {
   "cell_type": "code",
   "execution_count": null,
   "id": "20d16dda",
   "metadata": {},
   "outputs": [],
   "source": [
    "x = complex(1, 2)\n",
    "print(x)\n",
    "\n",
    "y = complex(3, 4)\n",
    "print(y)\n",
    "\n",
    "z = x + y\n",
    "print(x)\n",
    "\n",
    "print(z)\n",
    "\n",
    "z = x * y\n",
    "print(z)\n",
    "\n",
    "z = x / y\n",
    "print(z)\n",
    "\n",
    "print(x.conjugate())  # Сопряжённое число\n",
    "\n",
    "print(x.imag)  # Мнимая часть\n",
    "\n",
    "print(x.real)  # Действительная часть"
   ]
  },
  {
   "cell_type": "markdown",
   "id": "6323911d",
   "metadata": {},
   "source": [
    "# Определение типа переменной"
   ]
  },
  {
   "cell_type": "code",
   "execution_count": null,
   "id": "b9dc0a73",
   "metadata": {},
   "outputs": [],
   "source": [
    "\n",
    "vstr = 'Я строка'\n",
    "\n",
    "vnum = 30\n",
    "\n",
    "vbool = True\n",
    "\n",
    "vlist = ['Я','простой','список']\n",
    "\n",
    "vtuple = ('А', 'я', 'кортеж')\n",
    "\n",
    "print(type(vstr))\n",
    "print(type(vnum))\n",
    "print(type(vbool))\n",
    "print(type(vlist))\n",
    "print(type(vtuple))"
   ]
  },
  {
   "cell_type": "markdown",
   "id": "5f9a33c6",
   "metadata": {},
   "source": [
    "Кроме type() в Python есть функция isinstance(), с помощью которой можно проверить не относится ли переменная к какому-то определённому типу. "
   ]
  },
  {
   "cell_type": "code",
   "execution_count": null,
   "id": "3424396a",
   "metadata": {},
   "outputs": [],
   "source": [
    "print(isinstance(vstr, str))\n",
    "\n",
    "print(isinstance(vnum, int))"
   ]
  },
  {
   "cell_type": "markdown",
   "id": "6249b14c",
   "metadata": {},
   "source": [
    "# Списки\n",
    "\n",
    "Списки в Python - упорядоченные изменяемые коллекции объектов произвольных типов (почти как массив, но типы могут отличаться)."
   ]
  },
  {
   "cell_type": "code",
   "execution_count": null,
   "id": "c4f1b223",
   "metadata": {},
   "outputs": [],
   "source": [
    "list('я список')"
   ]
  },
  {
   "cell_type": "code",
   "execution_count": null,
   "id": "31bf3430",
   "metadata": {},
   "outputs": [],
   "source": [
    "s = []  # Пустой список\n",
    "print(s)"
   ]
  },
  {
   "cell_type": "markdown",
   "id": "f987d064",
   "metadata": {},
   "source": [
    "И еще один способ создать список - это использовать генераторы списков. "
   ]
  },
  {
   "cell_type": "code",
   "execution_count": null,
   "id": "049fbb54",
   "metadata": {},
   "outputs": [],
   "source": [
    "c = [c * 3 for c in 'list']\n",
    "print(c)"
   ]
  },
  {
   "cell_type": "code",
   "execution_count": null,
   "id": "f03323d7",
   "metadata": {},
   "outputs": [],
   "source": [
    "c = [c + d for c in 'list' if c != 'i' for d in 'spam' if d != 'a']\n",
    "print(c)"
   ]
  },
  {
   "cell_type": "markdown",
   "id": "599b79b3",
   "metadata": {},
   "source": [
    "## Методы списков\n",
    "\n",
    "\n",
    "`list.append(x)`\tДобавляет элемент в конец списка\n",
    "\n",
    "`list.extend(L)`\tРасширяет список list, добавляя в конец все элементы списка L\n",
    "\n",
    "`list.insert(i, x)`\tВставляет на i-ый элемент значение x\n",
    "\n",
    "`list.remove(x)`\tУдаляет первый элемент в списке, имеющий значение x. ValueError, если такого элемента не существует\n",
    "\n",
    "`list.pop([i])`\tУдаляет i-ый элемент и возвращает его. Если индекс не указан, удаляется последний элемент\n",
    "\n",
    "`list.index(x, [start [, end]])`\tВозвращает положение первого элемента со значением x (при этом поиск ведется от start до end)\n",
    "\n",
    "`list.count(x)`\tВозвращает количество элементов со значением x\n",
    "\n",
    "`list.sort(reverse=True|False,[key=функция])`\tСортирует список на основе функции и направлении\n",
    "\n",
    "`list.reverse()`\tРазворачивает список\n",
    "\n",
    "`list.copy()`\tПоверхностная копия списка\n",
    "\n",
    "`list.clear()`\tОчищает список"
   ]
  },
  {
   "cell_type": "code",
   "execution_count": null,
   "id": "9fbf99b3",
   "metadata": {},
   "outputs": [],
   "source": [
    "l = [0, 2, 4, -1, 7]\n",
    "l.sort()\n",
    "print(l)"
   ]
  },
  {
   "cell_type": "markdown",
   "id": "dfe2255b",
   "metadata": {},
   "source": [
    "# Кортежи\n",
    "\n",
    "Кортеж защищен от изменений, как намеренных (что плохо), так и случайных (что хорошо).\n",
    "\n",
    "Меньший размер."
   ]
  },
  {
   "cell_type": "code",
   "execution_count": null,
   "id": "025e5041",
   "metadata": {},
   "outputs": [],
   "source": [
    "a = (1, 2, 3, 4, 5, 6)\n",
    "b = [1, 2, 3, 4, 5, 6]\n",
    "\n",
    "print(a.__sizeof__())\n",
    "print(b.__sizeof__())"
   ]
  },
  {
   "cell_type": "code",
   "execution_count": null,
   "id": "2cde15c9",
   "metadata": {},
   "outputs": [],
   "source": [
    "a = tuple('hello, world!')\n",
    "print(a)"
   ]
  },
  {
   "cell_type": "markdown",
   "id": "c9c50476",
   "metadata": {},
   "source": [
    "# Словари\n",
    "\n",
    "Словари в Python - неупорядоченные коллекции произвольных объектов с доступом по ключу. Их иногда ещё называют\n",
    "\n",
    "ассоциативными массивами или хеш-таблицами."
   ]
  },
  {
   "cell_type": "code",
   "execution_count": null,
   "id": "c80dd8b7",
   "metadata": {},
   "outputs": [],
   "source": [
    "d = {'dict': 1, 'dictionary': 2}\n",
    "print(d)"
   ]
  },
  {
   "cell_type": "code",
   "execution_count": null,
   "id": "c53ec040",
   "metadata": {},
   "outputs": [],
   "source": [
    "# с помощью функции dict:\n",
    "d = dict(short='dict', long='dictionary')\n",
    "print(d)"
   ]
  },
  {
   "cell_type": "markdown",
   "id": "82cbf779",
   "metadata": {},
   "source": [
    "Присвоение по новому ключу расширяет словарь, присвоение по существующему ключу перезаписывает его"
   ]
  },
  {
   "cell_type": "code",
   "execution_count": null,
   "id": "011f7e2f",
   "metadata": {},
   "outputs": [],
   "source": [
    "d = {'key1': 2, 'key2': 4, 'key3': 9}\n",
    "d['key1']=-2\n",
    "d['key4']=10\n",
    "print(d)"
   ]
  },
  {
   "cell_type": "markdown",
   "id": "56073ecb",
   "metadata": {},
   "source": [
    "Словари, также, как и списки можно создать, использовав генератор. "
   ]
  },
  {
   "cell_type": "code",
   "execution_count": null,
   "id": "b48a33ef",
   "metadata": {},
   "outputs": [],
   "source": [
    "d = {x: x ** 3 for x in range(5)}\n",
    "\n",
    "print(d)"
   ]
  },
  {
   "cell_type": "code",
   "execution_count": null,
   "id": "f201c3eb",
   "metadata": {},
   "outputs": [],
   "source": [
    "d = {'A': 1, 'B': 2, 'C': 3}\n",
    "total = sum(d[x] for x in d if x !='B')\n",
    "\n",
    "print(total)"
   ]
  },
  {
   "cell_type": "markdown",
   "id": "b8d9946b",
   "metadata": {},
   "source": [
    "# Системы счисления\n",
    "\n",
    "\n",
    "`int([object], [основание системы счисления])` - преобразование к целому числу в десятичной системе счисления. По умолчанию система счисления десятичная, но можно задать любое основание от 2 до 36 включительно.\n",
    "    \n",
    "`bin(x)` - преобразование целого числа в двоичную строку.\n",
    "    \n",
    "`hex(х)` - преобразование целого числа в шестнадцатеричную строку.\n",
    "    \n",
    "`oct(х)` - преобразование целого числа в восьмеричную строку."
   ]
  },
  {
   "cell_type": "code",
   "execution_count": null,
   "id": "abd03947",
   "metadata": {},
   "outputs": [],
   "source": [
    "a = int('19') # Переводим строку в число\n",
    "\n",
    "print(a)\n",
    "\n",
    "print(bin(19))\n",
    "\n",
    "print(oct(19))\n",
    "\n",
    "print(hex(19))\n",
    "\n"
   ]
  },
  {
   "cell_type": "markdown",
   "id": "8b86fb0d",
   "metadata": {},
   "source": [
    "# Функции\n",
    "\n",
    "Функция в python - объект, принимающий аргументы и возвращающий значение. Обычно функция определяется с помощью инструкции def."
   ]
  },
  {
   "cell_type": "code",
   "execution_count": null,
   "id": "5654259f",
   "metadata": {},
   "outputs": [],
   "source": [
    "def add(x, y):\n",
    "    return x + y\n",
    "\n",
    "print(add(6,9))"
   ]
  },
  {
   "cell_type": "markdown",
   "id": "38bb6ee1",
   "metadata": {},
   "source": [
    "Функция может быть любой сложности и возвращать любые объекты (списки, кортежи, и даже функции!):\n"
   ]
  },
  {
   "cell_type": "code",
   "execution_count": null,
   "id": "c862fec6",
   "metadata": {},
   "outputs": [],
   "source": [
    "def newfunc(n):\n",
    "    def myfunc(x):\n",
    "        return x + n\n",
    "    return myfunc\n",
    "    \n",
    "new = newfunc(100)  # new - это функция\n",
    "new(200)"
   ]
  },
  {
   "cell_type": "markdown",
   "id": "598976da",
   "metadata": {},
   "source": [
    "Функция может и не заканчиваться инструкцией return, при этом функция вернет значение None:"
   ]
  },
  {
   "cell_type": "code",
   "execution_count": null,
   "id": "ce23f463",
   "metadata": {},
   "outputs": [],
   "source": [
    "def func():\n",
    "    pass"
   ]
  },
  {
   "cell_type": "markdown",
   "id": "fa4878e7",
   "metadata": {},
   "source": [
    "Функция может принимать произвольное количество аргументов или не принимать их вовсе. Также распространены функции с произвольным числом аргументов, функции с позиционными и именованными аргументами, обязательными и необязательными."
   ]
  },
  {
   "cell_type": "code",
   "execution_count": null,
   "id": "15bc0b92",
   "metadata": {},
   "outputs": [],
   "source": [
    "def func(a, b, c=2): # c - необязательный аргумент\n",
    "    return a + b + c\n",
    "\n",
    "print(func(1,5))"
   ]
  },
  {
   "cell_type": "markdown",
   "id": "d8301685",
   "metadata": {},
   "source": [
    "## Условные оператора"
   ]
  },
  {
   "cell_type": "code",
   "execution_count": null,
   "id": "7197ba94",
   "metadata": {},
   "outputs": [],
   "source": [
    "print('тип True and False: {}'.format(type(True)))\n",
    "print('0: {}, 1: {}'.format(bool(0), bool(1)))\n",
    "print('пустой список: {}, список со значениями: {}'.format(bool([]), bool(['woop'])))\n",
    "print('пустой словарь {}, словарь со значениями: {}'.format(bool({}), bool({'Python': 'cool'})))"
   ]
  },
  {
   "cell_type": "markdown",
   "id": "cc87e9f0",
   "metadata": {},
   "source": [
    "### `==, !=, >, <, >=, <=`"
   ]
  },
  {
   "cell_type": "code",
   "execution_count": null,
   "id": "4f0e7c89",
   "metadata": {},
   "outputs": [],
   "source": [
    "print('1 == 0: {}'.format(1 == 0))\n",
    "print('1 != 0: {}'.format(1 != 0))\n",
    "print('1 > 0: {}'.format(1 > 0))\n",
    "print('1 > 1: {}'.format(1 > 1))\n",
    "print('1 < 0: {}'.format(1 < 0))\n",
    "print('1 < 1: {}'.format(1 < 1))\n",
    "print('1 >= 0: {}'.format(1 >= 0))\n",
    "print('1 >= 1: {}'.format(1 >= 1))\n",
    "print('1 <= 0: {}'.format(1 <= 0))\n",
    "print('1 <= 1: {}'.format(1 <= 1))"
   ]
  },
  {
   "cell_type": "markdown",
   "id": "cc8c33c4",
   "metadata": {},
   "source": [
    "## Целочисленное деление `//`, остаток от деления `%`, степень `**`"
   ]
  },
  {
   "cell_type": "markdown",
   "id": "4de3a87d",
   "metadata": {},
   "source": [
    "### Задание 1 заменить в функции \n",
    "\n",
    "\\begin{align}\n",
    " res = a^3 - \\frac{3b^2 }{6c} + 15\n",
    "\\end{align}"
   ]
  },
  {
   "cell_type": "code",
   "execution_count": null,
   "id": "720c6757",
   "metadata": {},
   "outputs": [],
   "source": [
    "a = 3\n",
    "b = 2\n",
    "c = 1"
   ]
  },
  {
   "cell_type": "code",
   "execution_count": null,
   "id": "f1c6fe1f",
   "metadata": {
    "editable": false
   },
   "outputs": [],
   "source": [
    "# Ваша формула:\n",
    "result = "
   ]
  },
  {
   "cell_type": "code",
   "execution_count": null,
   "id": "669f2000",
   "metadata": {},
   "outputs": [],
   "source": [
    "assert result == 40"
   ]
  },
  {
   "cell_type": "markdown",
   "id": "81adf0d5",
   "metadata": {},
   "source": [
    "### Задание 2 реализовать функцию, которая фильтрует числа, делящиеся целочисленно на 7"
   ]
  },
  {
   "cell_type": "code",
   "execution_count": null,
   "id": "8bacd3cb",
   "metadata": {},
   "outputs": [],
   "source": [
    "def getDivisibleBySeven(numbers):\n",
    "    result = []\n",
    "    for num in numbers:\n",
    "        if ____________:\n",
    "            result.append(num)\n",
    "\n",
    "    return result\n",
    "\n",
    "nums=[1,6,9,10,15,21,30,42]\n",
    "assert(getDivisibleBySeven(nums) == [21, 42])"
   ]
  },
  {
   "cell_type": "markdown",
   "id": "da2d9a28",
   "metadata": {},
   "source": [
    "### Задание 3. Создать список, являющийся объединением указанных и отсортировать его от большего к меньшему"
   ]
  },
  {
   "cell_type": "code",
   "execution_count": null,
   "id": "33cc7454",
   "metadata": {},
   "outputs": [],
   "source": [
    "list1 = [9, 1, 52]\n",
    "list2 = [3.5, 0.1, 18, -1]\n",
    "list3 = [0.9]\n",
    "\n",
    "res=__________\n",
    "\n",
    "res.____(____)\n",
    "\n",
    "print(res)\n",
    "assert(res==[52, 18, 9, 3.5, 1, 0.9, 0.1, -1])"
   ]
  },
  {
   "cell_type": "markdown",
   "id": "fbcc4459",
   "metadata": {},
   "source": [
    "### Задание 4. Найти суммы только численных элементов"
   ]
  },
  {
   "cell_type": "markdown",
   "id": "af9e5bde",
   "metadata": {},
   "source": [
    "#### !Полезное!\n",
    "Использование sum() значительно упрощает код. Более того, эта функция не вызывает TypeError, если вы передали пустой список.\n",
    "\n",
    "У `sum()` есть два аргумента:\n",
    "\n",
    "    iterable – обязательный аргумент, который может содержать любой итерируемый объект Python. Итерируемый объект обычно содержит числовые значения, но также может содержать списки или кортежи.\n",
    "    start – необязательный аргумент, который может содержать начальное значение. В конце суммирования элементов это значение добавляется к окончательному результату. По умолчанию равен 0."
   ]
  },
  {
   "cell_type": "code",
   "execution_count": null,
   "id": "04f378a3",
   "metadata": {},
   "outputs": [],
   "source": [
    "#Примеры\n",
    "x=sum([7.6, 12.1, 23.3])\n",
    "print(x)\n",
    "\n",
    "# Сумма комплексных чисел\n",
    "res=sum([5 + 3j, 8 + 2j])\n",
    "print(res)\n",
    "\n",
    "#Сумма значений словаря\n",
    "d = {'key_1':10,'key_2':-7,'key_3':8}\n",
    "print(sum(d.values()))\n",
    "\n",
    "d = dict(v1=2, v2=4, v3=6, v4=-1, v5=9)\n",
    "res=sum(d[x] for x in d)\n",
    "print(res)"
   ]
  },
  {
   "cell_type": "code",
   "execution_count": null,
   "id": "c57d5210",
   "metadata": {},
   "outputs": [],
   "source": [
    "\n",
    "\n",
    "mdict = dict(val1=34, val2='some value', val3=65, val4=1, val5='S')\n",
    "\n",
    "sum_of_values = _______________________\n",
    "\n",
    "print(sum_of_values)\n",
    "assert sum_of_values == 100\n",
    "\n"
   ]
  },
  {
   "cell_type": "markdown",
   "id": "16c1ebd2",
   "metadata": {},
   "source": [
    "### Задание 5. Создать список строк на основе списка чисел по следующим правилам\n",
    "\n",
    "* Если число равно 0 элемент-строка должна быть \"0\"\n",
    "\n",
    "для всех остальных чисел:\n",
    "\n",
    "* Если число четное элемент-строка должна быть \"Четное\"\n",
    "\n",
    "* Если число нечетное элемент-строка должна быть \"Нечетное\""
   ]
  },
  {
   "cell_type": "code",
   "execution_count": null,
   "id": "67da010d",
   "metadata": {},
   "outputs": [],
   "source": [
    "numbers = [1, 3, 4, 0, 23, 82, 90, 0, 5]"
   ]
  },
  {
   "cell_type": "code",
   "execution_count": null,
   "id": "b2270cb3",
   "metadata": {},
   "outputs": [],
   "source": [
    "# Ваше решение\n",
    "\n",
    "\n",
    "my_list = ____________\n"
   ]
  },
  {
   "cell_type": "code",
   "execution_count": null,
   "id": "5d9fce37",
   "metadata": {},
   "outputs": [],
   "source": [
    "assert my_list==['odd', 'odd', 'even', '0', 'odd', 'even', 'even', '0', 'odd']"
   ]
  },
  {
   "cell_type": "markdown",
   "id": "3995de92",
   "metadata": {},
   "source": [
    "### Задание 6. Создать словарь, используя следующие переменные\n"
   ]
  },
  {
   "cell_type": "code",
   "execution_count": null,
   "id": "00439867",
   "metadata": {},
   "outputs": [],
   "source": [
    "first_name = 'Стас'\n",
    "last_name = 'Иванов'\n",
    "favorite_hobby = 'Python'\n",
    "sports_hobby = 'теннис'\n",
    "age = 82\n"
   ]
  },
  {
   "cell_type": "code",
   "execution_count": null,
   "id": "6609fa4c",
   "metadata": {},
   "outputs": [],
   "source": [
    "\n",
    "my_dict = ___________\n",
    "\n",
    "assert my_dict == {\n",
    "        'name': 'Стас',\n",
    "        'age': 82,\n",
    "        'hobbies': ['Python', 'теннис']\n",
    "    }\n",
    "\n"
   ]
  }
 ],
 "metadata": {
  "kernelspec": {
   "display_name": "Python 3 (ipykernel)",
   "language": "python",
   "name": "python3"
  },
  "language_info": {
   "codemirror_mode": {
    "name": "ipython",
    "version": 3
   },
   "file_extension": ".py",
   "mimetype": "text/x-python",
   "name": "python",
   "nbconvert_exporter": "python",
   "pygments_lexer": "ipython3",
   "version": "3.9.12"
  },
  "vscode": {
   "interpreter": {
    "hash": "51d1b1972fa54798d909bd0eac714c941b72cf97f8d0b65a669e06cc130b051e"
   }
  }
 },
 "nbformat": 4,
 "nbformat_minor": 5
}
